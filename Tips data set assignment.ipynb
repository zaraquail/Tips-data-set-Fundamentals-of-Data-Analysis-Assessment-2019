{
 "cells": [
  {
   "cell_type": "markdown",
   "metadata": {},
   "source": [
    "# Fundamentals of Data Analysis Assignment November 2019\n",
    "\n",
    "Student: Zara Quail\n",
    "\n",
    "GMIT no.: G00376517\n",
    "\n",
    "Numbered reference citations are noted througout the assignment in square brackets with reference list at end of the notebook."
   ]
  },
  {
   "cell_type": "markdown",
   "metadata": {},
   "source": [
    "## Description\n",
    "\n",
    "The tips dataset is a \n",
    "\n",
    "This section contains descriptive statistics and plots to describe the tips dataset."
   ]
  },
  {
   "cell_type": "markdown",
   "metadata": {},
   "source": [
    "## Regression\n",
    "\n",
    "Discussion and analysis of a relationship between total bill and tip amount."
   ]
  },
  {
   "cell_type": "code",
   "execution_count": 2,
   "metadata": {},
   "outputs": [],
   "source": [
    "# import necessary libraries [2, 6]\n",
    "\n",
    "import numpy as np\n",
    "import pandas as pd\n",
    "import matplotlib.pyplot as plt\n",
    "import seaborn as sns"
   ]
  },
  {
   "cell_type": "markdown",
   "metadata": {},
   "source": [
    "## Analysis\n",
    "\n",
    "Analysis of the relationship between the variables within the dataset.\n",
    "Interpret as you wish. Can analyse all pairs of variables or select a subset and analyse those."
   ]
  },
  {
   "cell_type": "markdown",
   "metadata": {},
   "source": [
    "## References\n",
    "1. Available from: http://vincentarelbundock.github.io/Rdatasets/datasets.html (Last accessed 29 November 2019)\n",
    "2. Sanket Doshi. Analyze the data through data visualization using Seaborn. Towards Data Science. Feb 2019. Available from: https://towardsdatascience.com/analyze-the-data-through-data-visualization-using-seaborn-255e1cd3948e (Last accessed 29 November 2019)\n",
    "3. Michael Waskom. seaborn-data/tips.csv. GitHub. February 2014. Available from: https://github.com/mwaskom/seaborn-data/blob/master/tips.csv (Last accessed 29 November 2019)\n",
    "4. Ranjeet Jain. seaborn_tips_dataset. Kaggle. April 2018. Available from: https://www.kaggle.com/ranjeetjain3/seaborn-tips-dataset (Last accessed 29 November 2019)\n",
    "5. rdrr.io. regclass, TIPS: Tips dataset. rdrr.io. May 2019. Available from: https://rdrr.io/cran/regclass/man/TIPS.html (Last accessed 29 November 2019)\n",
    "6. Michael Waskom. An introduction to seaborn. Seaborn. Available from: https://seaborn.pydata.org/introduction.html (Last accessed 29 November 2019)\n",
    "7. Michael Waskom. Official seaborn tutorial. Seaborn. Available from: https://seaborn.pydata.org/tutorial.html (Last accessed 29 November 2019)\n",
    "8. Jupyter Team. Markdown. Jupyter Notebook. 2015. Available from: https://jupyter-notebook.readthedocs.io/en/stable/examples/Notebook/Working%20With%20Markdown%20Cells.html (Last accessed 29 November 2019)"
   ]
  }
 ],
 "metadata": {
  "kernelspec": {
   "display_name": "Python 3",
   "language": "python",
   "name": "python3"
  },
  "language_info": {
   "codemirror_mode": {
    "name": "ipython",
    "version": 3
   },
   "file_extension": ".py",
   "mimetype": "text/x-python",
   "name": "python",
   "nbconvert_exporter": "python",
   "pygments_lexer": "ipython3",
   "version": "3.7.3"
  }
 },
 "nbformat": 4,
 "nbformat_minor": 2
}
